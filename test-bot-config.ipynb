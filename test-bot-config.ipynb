{
 "cells": [
  {
   "cell_type": "code",
   "execution_count": 4,
   "metadata": {},
   "outputs": [
    {
     "name": "stderr",
     "output_type": "stream",
     "text": [
      "d:\\SOFTWARE\\Python310\\env\\msbot\\lib\\site-packages\\botbuilder\\schema\\__init__.py:80: UserWarning: The Bot Framework Python SDK is being retired with final long-term support ending in November 2023, after which this repository will be archived. There will be no further feature development, with only critical security and bug fixes within this repository being undertaken. Existing bots built with this SDK will continue to function. For all new bot development we recommend that you adopt Power Virtual Agents.\n",
      "  warn(\n"
     ]
    },
    {
     "data": {
      "text/plain": [
       "<coroutine object AuthenChatUser.get_auth at 0x000001B713505A80>"
      ]
     },
     "execution_count": 4,
     "metadata": {},
     "output_type": "execute_result"
    }
   ],
   "source": [
    "# from vpi_bot_skills import AuthenChatUser\n",
    "\n",
    "# auth = AuthenChatUser()\n",
    "# auth.get_auth('18uedfklashdfkjh')"
   ]
  },
  {
   "cell_type": "markdown",
   "metadata": {},
   "source": [
    "from vpi_bot_skills.chat_database_skills import ChatWithDataBase\n",
    "\n",
    "ChatWithDataBase().chat_database()"
   ]
  },
  {
   "cell_type": "code",
   "execution_count": 13,
   "metadata": {},
   "outputs": [
    {
     "data": {
      "text/plain": [
       "dict"
      ]
     },
     "execution_count": 13,
     "metadata": {},
     "output_type": "execute_result"
    }
   ],
   "source": [
    "import json\n",
    "x = '{\"type\":\"question\",\"value\":\"công thức đạo hàm hàm mũ\"}'\n",
    "z = json.loads(x)\n",
    "type(z)"
   ]
  },
  {
   "cell_type": "code",
   "execution_count": 2,
   "metadata": {},
   "outputs": [
    {
     "name": "stdout",
     "output_type": "stream",
     "text": [
      "\n",
      "\n",
      "Answer:\n",
      "SELECT COUNT(*) \n",
      "FROM students s \n",
      "INNER JOIN grades g \n",
      "ON s.id = g.studentid \n",
      "INNER JOIN courses c \n",
      "ON g.courseid = c.id \n",
      "WHERE c.courseName = 'Toán' \n",
      "AND g.score > 90;\n"
     ]
    }
   ],
   "source": [
    "from vpi_teams_bot import VpiSkKernel2\n",
    "kernel = VpiSkKernel2()\n",
    "skcontext = kernel.get_context('test')\n",
    "\n",
    "table_name = kernel.get_semantic_skill('databaseSkills')['genSqlQuery']\n",
    "\n",
    "schemas = \"\"\"\n",
    "Table: students\n",
    "Collumns:\n",
    "\t- id: id \n",
    "\t- name: student's name\n",
    "\t- birthday: student's birthday\n",
    "\t- address: adress\n",
    "\n",
    "Table: grades\n",
    "Collumns:\n",
    "\t- id : id\n",
    "\t- studentid: student's id in students table\n",
    "\t- courseid: course's id in cousrse table\n",
    "\t- score: score of stundet id learning this course id\n",
    "\n",
    "Table: courses\n",
    "Collumns:\n",
    "\t- id: id\n",
    "\t- courseName: name of course \n",
    "\t\t- courseName value: ['Toán','Vật Lý','Hóa']\n",
    "\t- lecturer: name of teacher teach this course\n",
    "\"\"\"\n",
    "\n",
    "skcontext['data_schemas'] = schemas\n",
    "skcontext['data_objective'] = 'tìm số lượng sinh viên có điểm môn toán cao hơn 90'\n",
    "# skcontext['data_objective'] = 'tìm tên giảng viên dậy môn lý'\n",
    "# skcontext['data_objective'] = 'Lấy tên các học sinh có điểm toán > 80'\n",
    "# skcontext['data_objective'] = 'Tìm số sinh viên học tất cả các môn'\n",
    "\n",
    "await table_name.invoke_async(context=skcontext)\n",
    "print(skcontext.result)"
   ]
  },
  {
   "cell_type": "code",
   "execution_count": 10,
   "metadata": {},
   "outputs": [
    {
     "name": "stdout",
     "output_type": "stream",
     "text": [
      "SELECT COUNT(*) \n",
      "FROM students s \n",
      "INNER JOIN grades g \n",
      "ON s.id = g.studentid \n",
      "INNER JOIN courses c \n",
      "ON g.courseid = c.id \n",
      "WHERE c.courseName = 'Toán' \n",
      "AND g.score > 90;\n",
      "\n",
      "SELECT COUNT(*) \n",
      "FROM students s \n",
      "INNER JOIN grades g \n",
      "ON s.id = g.studentid \n",
      "INNER JOIN courses c \n",
      "ON g.courseid = c.id \n",
      "WHERE c.courseName = 'Toán' \n",
      "AND g.score > 90;\n"
     ]
    }
   ],
   "source": [
    "sql = skcontext.result.strip()[skcontext.result.find(':'):] if 'Answer' in skcontext.result else skcontext.result\n",
    "print(sql)\n",
    "check = skcontext.result.strip()\n",
    "out = check[check.find(':') + 1:] if 'Answer' in check else check\n",
    "print(out)"
   ]
  },
  {
   "cell_type": "code",
   "execution_count": 4,
   "metadata": {},
   "outputs": [
    {
     "name": "stdout",
     "output_type": "stream",
     "text": [
      " SELECT COUNT DISTINCT s id FROM students s INNER JOIN grades g ON s id g studentid INNER JOIN courses c ON g courseid c id WHERE c courseName IN Toán Vật Lý Hóa \n"
     ]
    }
   ],
   "source": [
    "import re\n",
    "\n",
    "# Sử dụng regex và re.sub() để loại bỏ các ký tự đặc biệt\n",
    "prcessed_sql = re.sub(r'\\W+', ' ', sql)\n",
    "\n",
    "print(prcessed_sql)"
   ]
  },
  {
   "cell_type": "code",
   "execution_count": 11,
   "metadata": {},
   "outputs": [
    {
     "data": {
      "text/html": [
       "<div>\n",
       "<style scoped>\n",
       "    .dataframe tbody tr th:only-of-type {\n",
       "        vertical-align: middle;\n",
       "    }\n",
       "\n",
       "    .dataframe tbody tr th {\n",
       "        vertical-align: top;\n",
       "    }\n",
       "\n",
       "    .dataframe thead th {\n",
       "        text-align: right;\n",
       "    }\n",
       "</style>\n",
       "<table border=\"1\" class=\"dataframe\">\n",
       "  <thead>\n",
       "    <tr style=\"text-align: right;\">\n",
       "      <th></th>\n",
       "      <th>ID</th>\n",
       "      <th>Name</th>\n",
       "      <th>Birthday</th>\n",
       "      <th>Address</th>\n",
       "    </tr>\n",
       "  </thead>\n",
       "  <tbody>\n",
       "    <tr>\n",
       "      <th>0</th>\n",
       "      <td>1</td>\n",
       "      <td>Trang</td>\n",
       "      <td>2000-01-01</td>\n",
       "      <td>Hồ Chí Minh</td>\n",
       "    </tr>\n",
       "    <tr>\n",
       "      <th>1</th>\n",
       "      <td>2</td>\n",
       "      <td>Quỳnh</td>\n",
       "      <td>1999-05-10</td>\n",
       "      <td>Cần Thơ</td>\n",
       "    </tr>\n",
       "    <tr>\n",
       "      <th>2</th>\n",
       "      <td>3</td>\n",
       "      <td>Long</td>\n",
       "      <td>2002-09-12</td>\n",
       "      <td>Hà Nội</td>\n",
       "    </tr>\n",
       "    <tr>\n",
       "      <th>3</th>\n",
       "      <td>4</td>\n",
       "      <td>Lâm</td>\n",
       "      <td>2001-08-02</td>\n",
       "      <td>Bắc Giang</td>\n",
       "    </tr>\n",
       "    <tr>\n",
       "      <th>4</th>\n",
       "      <td>5</td>\n",
       "      <td>Hằng</td>\n",
       "      <td>2002-12-12</td>\n",
       "      <td>Hưng Yên</td>\n",
       "    </tr>\n",
       "  </tbody>\n",
       "</table>\n",
       "</div>"
      ],
      "text/plain": [
       "   ID   Name   Birthday      Address\n",
       "0   1  Trang 2000-01-01  Hồ Chí Minh\n",
       "1   2  Quỳnh 1999-05-10      Cần Thơ\n",
       "2   3   Long 2002-09-12       Hà Nội\n",
       "3   4    Lâm 2001-08-02    Bắc Giang\n",
       "4   5   Hằng 2002-12-12     Hưng Yên"
      ]
     },
     "execution_count": 11,
     "metadata": {},
     "output_type": "execute_result"
    }
   ],
   "source": [
    "from sqlalchemy import create_engine\n",
    "import pandas as pd\n",
    "\n",
    "connector = create_engine('mysql://root:''@localhost/student').connect()\n",
    "\n",
    "df = pd.read_sql_table('students', connector)\n",
    "df.head()"
   ]
  },
  {
   "cell_type": "code",
   "execution_count": 12,
   "metadata": {},
   "outputs": [
    {
     "data": {
      "text/plain": [
       "[(1,)]"
      ]
     },
     "execution_count": 12,
     "metadata": {},
     "output_type": "execute_result"
    }
   ],
   "source": [
    "from sqlalchemy.sql import text\n",
    "\n",
    "# sql_text = text('select * from students')\n",
    "sql_text = text(sql)\n",
    "# sql_text = text(prcessed_sql)\n",
    "connector.execute(sql_text).fetchall()"
   ]
  },
  {
   "cell_type": "code",
   "execution_count": 18,
   "metadata": {},
   "outputs": [
    {
     "data": {
      "text/html": [
       "<div>\n",
       "<style scoped>\n",
       "    .dataframe tbody tr th:only-of-type {\n",
       "        vertical-align: middle;\n",
       "    }\n",
       "\n",
       "    .dataframe tbody tr th {\n",
       "        vertical-align: top;\n",
       "    }\n",
       "\n",
       "    .dataframe thead th {\n",
       "        text-align: right;\n",
       "    }\n",
       "</style>\n",
       "<table border=\"1\" class=\"dataframe\">\n",
       "  <thead>\n",
       "    <tr style=\"text-align: right;\">\n",
       "      <th></th>\n",
       "      <th>lecturer</th>\n",
       "    </tr>\n",
       "  </thead>\n",
       "  <tbody>\n",
       "  </tbody>\n",
       "</table>\n",
       "</div>"
      ],
      "text/plain": [
       "Empty DataFrame\n",
       "Columns: [lecturer]\n",
       "Index: []"
      ]
     },
     "execution_count": 18,
     "metadata": {},
     "output_type": "execute_result"
    }
   ],
   "source": [
    "df2 = pd.read_sql(sql_text, connector)\n",
    "df2.head()"
   ]
  },
  {
   "cell_type": "code",
   "execution_count": 11,
   "metadata": {},
   "outputs": [],
   "source": [
    "# chat = kernel.get_semantic_skill('chatSkills')\n",
    "chat = kernel.import_semantic_skill_from_directory('./vpi_bot_skills/','chatSkills')"
   ]
  },
  {
   "cell_type": "code",
   "execution_count": 2,
   "metadata": {},
   "outputs": [],
   "source": [
    "# func1 = kernel.import_semantic_skill_from_directory('./vpi_bot_skills','databaseSkills')['getTableName']"
   ]
  },
  {
   "cell_type": "code",
   "execution_count": 3,
   "metadata": {},
   "outputs": [],
   "source": [
    "# sql_context = kernel.get_context('sql')\n",
    "# sql_context['schema'] = str(ChatWithDataBase.SCHEMAS) \n",
    "# sql_context.put('tìm danh sách những nhân viên có địa điểm làm việc ở Hồ Chí Minh')\n",
    "\n",
    "# print(func1(sql_context))"
   ]
  },
  {
   "cell_type": "code",
   "execution_count": 4,
   "metadata": {},
   "outputs": [
    {
     "data": {
      "text/html": [
       "<div>\n",
       "<style scoped>\n",
       "    .dataframe tbody tr th:only-of-type {\n",
       "        vertical-align: middle;\n",
       "    }\n",
       "\n",
       "    .dataframe tbody tr th {\n",
       "        vertical-align: top;\n",
       "    }\n",
       "\n",
       "    .dataframe thead th {\n",
       "        text-align: right;\n",
       "    }\n",
       "</style>\n",
       "<table border=\"1\" class=\"dataframe\">\n",
       "  <thead>\n",
       "    <tr style=\"text-align: right;\">\n",
       "      <th></th>\n",
       "      <th>Unnamed: 0</th>\n",
       "      <th>Dia</th>\n",
       "      <th>GDCD</th>\n",
       "      <th>Hoa</th>\n",
       "      <th>Li</th>\n",
       "      <th>Ma_mon_ngoai_ngu</th>\n",
       "      <th>Ngoai_ngu</th>\n",
       "      <th>Sinh</th>\n",
       "      <th>Su</th>\n",
       "      <th>Toan</th>\n",
       "      <th>Van</th>\n",
       "      <th>sbd</th>\n",
       "    </tr>\n",
       "  </thead>\n",
       "  <tbody>\n",
       "    <tr>\n",
       "      <th>0</th>\n",
       "      <td>0</td>\n",
       "      <td>7.75</td>\n",
       "      <td>8.75</td>\n",
       "      <td>NaN</td>\n",
       "      <td>NaN</td>\n",
       "      <td>N1</td>\n",
       "      <td>7.6</td>\n",
       "      <td>NaN</td>\n",
       "      <td>8.25</td>\n",
       "      <td>8.2</td>\n",
       "      <td>8.00</td>\n",
       "      <td>24008611</td>\n",
       "    </tr>\n",
       "    <tr>\n",
       "      <th>1</th>\n",
       "      <td>1</td>\n",
       "      <td>NaN</td>\n",
       "      <td>NaN</td>\n",
       "      <td>4.5</td>\n",
       "      <td>8.25</td>\n",
       "      <td>N1</td>\n",
       "      <td>8.0</td>\n",
       "      <td>6.0</td>\n",
       "      <td>NaN</td>\n",
       "      <td>8.6</td>\n",
       "      <td>6.17</td>\n",
       "      <td>51000032</td>\n",
       "    </tr>\n",
       "    <tr>\n",
       "      <th>2</th>\n",
       "      <td>2</td>\n",
       "      <td>4.25</td>\n",
       "      <td>5.75</td>\n",
       "      <td>NaN</td>\n",
       "      <td>NaN</td>\n",
       "      <td>NaN</td>\n",
       "      <td>NaN</td>\n",
       "      <td>NaN</td>\n",
       "      <td>4.00</td>\n",
       "      <td>5.2</td>\n",
       "      <td>4.75</td>\n",
       "      <td>51000005</td>\n",
       "    </tr>\n",
       "    <tr>\n",
       "      <th>3</th>\n",
       "      <td>3</td>\n",
       "      <td>4.75</td>\n",
       "      <td>5.00</td>\n",
       "      <td>NaN</td>\n",
       "      <td>NaN</td>\n",
       "      <td>NaN</td>\n",
       "      <td>NaN</td>\n",
       "      <td>NaN</td>\n",
       "      <td>2.25</td>\n",
       "      <td>4.4</td>\n",
       "      <td>4.50</td>\n",
       "      <td>51000021</td>\n",
       "    </tr>\n",
       "    <tr>\n",
       "      <th>4</th>\n",
       "      <td>4</td>\n",
       "      <td>8.25</td>\n",
       "      <td>7.50</td>\n",
       "      <td>NaN</td>\n",
       "      <td>NaN</td>\n",
       "      <td>N1</td>\n",
       "      <td>4.4</td>\n",
       "      <td>NaN</td>\n",
       "      <td>7.75</td>\n",
       "      <td>5.8</td>\n",
       "      <td>6.00</td>\n",
       "      <td>51000013</td>\n",
       "    </tr>\n",
       "  </tbody>\n",
       "</table>\n",
       "</div>"
      ],
      "text/plain": [
       "   Unnamed: 0   Dia  GDCD  Hoa    Li Ma_mon_ngoai_ngu  Ngoai_ngu  Sinh    Su  \\\n",
       "0           0  7.75  8.75  NaN   NaN               N1        7.6   NaN  8.25   \n",
       "1           1   NaN   NaN  4.5  8.25               N1        8.0   6.0   NaN   \n",
       "2           2  4.25  5.75  NaN   NaN              NaN        NaN   NaN  4.00   \n",
       "3           3  4.75  5.00  NaN   NaN              NaN        NaN   NaN  2.25   \n",
       "4           4  8.25  7.50  NaN   NaN               N1        4.4   NaN  7.75   \n",
       "\n",
       "   Toan   Van       sbd  \n",
       "0   8.2  8.00  24008611  \n",
       "1   8.6  6.17  51000032  \n",
       "2   5.2  4.75  51000005  \n",
       "3   4.4  4.50  51000021  \n",
       "4   5.8  6.00  51000013  "
      ]
     },
     "execution_count": 4,
     "metadata": {},
     "output_type": "execute_result"
    }
   ],
   "source": [
    "import pandas as pd\n",
    "\n",
    "df = pd.read_csv('./data/diemthi2019.csv')\n",
    "df.head()"
   ]
  },
  {
   "cell_type": "code",
   "execution_count": 5,
   "metadata": {},
   "outputs": [
    {
     "name": "stdout",
     "output_type": "stream",
     "text": [
      "Unnamed: 0,Dia,GDCD,Hoa,Li,Ma_mon_ngoai_ngu,Ngoai_ngu,Sinh,Su,Toan,Van,sbd\n",
      "0,7.75,8.75,,,N1,7.6,,8.25,8.2,8.0,24008611\n",
      "1,,,4.5,8.25,N1,8.0,6.0,,8.6,6.17,51000032\n",
      "2,4.25,5.75,,,,,,4.0,5.2,4.75,51000005\n",
      "3,4.75,5.0,,,,,,2.25,4.4,4.5,51000021\n",
      "4,8.25,7.5,,,N1,4.4,,7.75,5.8,6.0,51000013\n",
      "\n"
     ]
    }
   ],
   "source": [
    "df_head = df.head().to_csv(index=False)\n",
    "print(df_head)"
   ]
  },
  {
   "cell_type": "code",
   "execution_count": 6,
   "metadata": {},
   "outputs": [],
   "source": [
    "from pandasai import PandasAI\n",
    "from pandasai.llm import OpenAI\n",
    "import os"
   ]
  },
  {
   "cell_type": "code",
   "execution_count": 10,
   "metadata": {},
   "outputs": [
    {
     "name": "stderr",
     "output_type": "stream",
     "text": [
      "--- Logging error ---\n",
      "Traceback (most recent call last):\n",
      "  File \"D:\\SOFTWARE\\Python310\\lib\\logging\\__init__.py\", line 1103, in emit\n",
      "    stream.write(msg + self.terminator)\n",
      "  File \"D:\\SOFTWARE\\Python310\\lib\\encodings\\cp1252.py\", line 19, in encode\n",
      "    return codecs.charmap_encode(input,self.errors,encoding_table)[0]\n",
      "UnicodeEncodeError: 'charmap' codec can't encode character '\\u0111' in position 55: character maps to <undefined>\n",
      "Call stack:\n",
      "  File \"D:\\SOFTWARE\\Python310\\lib\\runpy.py\", line 196, in _run_module_as_main\n",
      "    return _run_code(code, main_globals, None,\n",
      "  File \"D:\\SOFTWARE\\Python310\\lib\\runpy.py\", line 86, in _run_code\n",
      "    exec(code, run_globals)\n",
      "  File \"d:\\SOFTWARE\\Python310\\env\\msbot\\lib\\site-packages\\ipykernel_launcher.py\", line 17, in <module>\n",
      "    app.launch_new_instance()\n",
      "  File \"d:\\SOFTWARE\\Python310\\env\\msbot\\lib\\site-packages\\traitlets\\config\\application.py\", line 1043, in launch_instance\n",
      "    app.start()\n",
      "  File \"d:\\SOFTWARE\\Python310\\env\\msbot\\lib\\site-packages\\ipykernel\\kernelapp.py\", line 728, in start\n",
      "    self.io_loop.start()\n",
      "  File \"d:\\SOFTWARE\\Python310\\env\\msbot\\lib\\site-packages\\tornado\\platform\\asyncio.py\", line 195, in start\n",
      "    self.asyncio_loop.run_forever()\n",
      "  File \"D:\\SOFTWARE\\Python310\\lib\\asyncio\\base_events.py\", line 603, in run_forever\n",
      "    self._run_once()\n",
      "  File \"D:\\SOFTWARE\\Python310\\lib\\asyncio\\base_events.py\", line 1909, in _run_once\n",
      "    handle._run()\n",
      "  File \"D:\\SOFTWARE\\Python310\\lib\\asyncio\\events.py\", line 80, in _run\n",
      "    self._context.run(self._callback, *self._args)\n",
      "  File \"d:\\SOFTWARE\\Python310\\env\\msbot\\lib\\site-packages\\ipykernel\\kernelbase.py\", line 516, in dispatch_queue\n",
      "    await self.process_one()\n",
      "  File \"d:\\SOFTWARE\\Python310\\env\\msbot\\lib\\site-packages\\ipykernel\\kernelbase.py\", line 505, in process_one\n",
      "    await dispatch(*args)\n",
      "  File \"d:\\SOFTWARE\\Python310\\env\\msbot\\lib\\site-packages\\ipykernel\\kernelbase.py\", line 412, in dispatch_shell\n",
      "    await result\n",
      "  File \"d:\\SOFTWARE\\Python310\\env\\msbot\\lib\\site-packages\\ipykernel\\kernelbase.py\", line 740, in execute_request\n",
      "    reply_content = await reply_content\n",
      "  File \"d:\\SOFTWARE\\Python310\\env\\msbot\\lib\\site-packages\\ipykernel\\ipkernel.py\", line 422, in do_execute\n",
      "    res = shell.run_cell(\n",
      "  File \"d:\\SOFTWARE\\Python310\\env\\msbot\\lib\\site-packages\\ipykernel\\zmqshell.py\", line 540, in run_cell\n",
      "    return super().run_cell(*args, **kwargs)\n",
      "  File \"d:\\SOFTWARE\\Python310\\env\\msbot\\lib\\site-packages\\IPython\\core\\interactiveshell.py\", line 3009, in run_cell\n",
      "    result = self._run_cell(\n",
      "  File \"d:\\SOFTWARE\\Python310\\env\\msbot\\lib\\site-packages\\IPython\\core\\interactiveshell.py\", line 3064, in _run_cell\n",
      "    result = runner(coro)\n",
      "  File \"d:\\SOFTWARE\\Python310\\env\\msbot\\lib\\site-packages\\IPython\\core\\async_helpers.py\", line 129, in _pseudo_sync_runner\n",
      "    coro.send(None)\n",
      "  File \"d:\\SOFTWARE\\Python310\\env\\msbot\\lib\\site-packages\\IPython\\core\\interactiveshell.py\", line 3269, in run_cell_async\n",
      "    has_raised = await self.run_ast_nodes(code_ast.body, cell_name,\n",
      "  File \"d:\\SOFTWARE\\Python310\\env\\msbot\\lib\\site-packages\\IPython\\core\\interactiveshell.py\", line 3448, in run_ast_nodes\n",
      "    if await self.run_code(code, result, async_=asy):\n",
      "  File \"d:\\SOFTWARE\\Python310\\env\\msbot\\lib\\site-packages\\IPython\\core\\interactiveshell.py\", line 3508, in run_code\n",
      "    exec(code_obj, self.user_global_ns, self.user_ns)\n",
      "  File \"C:\\Users\\clone\\AppData\\Local\\Temp\\ipykernel_20272\\995387407.py\", line 3, in <module>\n",
      "    kq = pd_ai(df, 'tìm tìm 10 sbd có điểm văn cao nhất')\n",
      "  File \"d:\\SOFTWARE\\Python310\\env\\msbot\\lib\\site-packages\\pandasai\\__init__.py\", line 528, in __call__\n",
      "    return self.run(\n",
      "  File \"d:\\SOFTWARE\\Python310\\env\\msbot\\lib\\site-packages\\pandasai\\__init__.py\", line 370, in run\n",
      "    self.log(f\"Question: {prompt}\")\n",
      "  File \"d:\\SOFTWARE\\Python310\\env\\msbot\\lib\\site-packages\\pandasai\\__init__.py\", line 814, in log\n",
      "    self._logger.log(level=level, msg=message)\n",
      "Message: 'Question: tìm tìm 10 sbd có điểm văn cao nhất'\n",
      "Arguments: ()\n"
     ]
    },
    {
     "name": "stdout",
     "output_type": "stream",
     "text": [
      "149017    29029394\n",
      "210203    55009659\n",
      "210340    55009794\n",
      "210353    55009803\n",
      "223611    34009156\n",
      "325959    37000035\n",
      "366362    19007241\n",
      "550972    34006800\n",
      "645266    29007662\n",
      "690032    29023280\n",
      "Name: sbd, dtype: int64\n"
     ]
    }
   ],
   "source": [
    "llm = OpenAI(os.getenv(key='OPENAI_API_KEY'))\n",
    "pd_ai = PandasAI(llm, enable_cache= False)\n",
    "kq = pd_ai(df, 'tìm tìm 10 sbd có điểm văn cao nhất')\n",
    "print(kq)"
   ]
  },
  {
   "cell_type": "code",
   "execution_count": 9,
   "metadata": {},
   "outputs": [],
   "source": [
    "func2 = kernel.get_semantic_skill('databaseSkills')['getPythonCode']"
   ]
  },
  {
   "cell_type": "code",
   "execution_count": 11,
   "metadata": {},
   "outputs": [
    {
     "name": "stdout",
     "output_type": "stream",
     "text": [
      "None\n"
     ]
    }
   ],
   "source": [
    "print(pd_ai.last_code_generated)"
   ]
  },
  {
   "cell_type": "code",
   "execution_count": 13,
   "metadata": {},
   "outputs": [
    {
     "name": "stdout",
     "output_type": "stream",
     "text": [
      "\n",
      "\n",
      "<startCode>\n",
      "# Get the top 9 SBDs with the highest Toan scores\n",
      "df.sort_values(by='Toan', ascending=False).head(9)['sbd']\n",
      "<endCode>\n"
     ]
    }
   ],
   "source": [
    "sql_context2 = kernel.get_context('sql2')\n",
    "question = \"tìm 9 sbd có điểm toán cao nhất\"\n",
    "sql_context2['input'] = question\n",
    "sql_context2['origin_question'] = question\n",
    "sql_context2['num_rows'] = str(df.shape[0])\n",
    "sql_context2['num_cols'] = str(df.shape[1])\n",
    "sql_context2['df_head'] = df_head\n",
    "\t\n",
    "print(func2.invoke(context= sql_context2))"
   ]
  },
  {
   "cell_type": "code",
   "execution_count": null,
   "metadata": {},
   "outputs": [],
   "source": []
  },
  {
   "cell_type": "code",
   "execution_count": 36,
   "metadata": {},
   "outputs": [
    {
     "data": {
      "text/plain": [
       "136269    46000056\n",
       "211674    22008906\n",
       "212034    22009272\n",
       "260813    19013622\n",
       "346036     1068360\n",
       "Name: sbd, dtype: int64"
      ]
     },
     "execution_count": 36,
     "metadata": {},
     "output_type": "execute_result"
    }
   ],
   "source": [
    "pd_ai.last_code_generated\n",
    "pd_ai.run_code(pd_ai.last_code_generated, df)"
   ]
  },
  {
   "cell_type": "code",
   "execution_count": null,
   "metadata": {},
   "outputs": [],
   "source": [
    "top_10_sbd_toan_cao_nhat = df.nlargest(10, 'Toan')['sbd']\n",
    "top_10_sbd_toan_cao_nhat"
   ]
  }
 ],
 "metadata": {
  "kernelspec": {
   "display_name": "msbot",
   "language": "python",
   "name": "python3"
  },
  "language_info": {
   "codemirror_mode": {
    "name": "ipython",
    "version": 3
   },
   "file_extension": ".py",
   "mimetype": "text/x-python",
   "name": "python",
   "nbconvert_exporter": "python",
   "pygments_lexer": "ipython3",
   "version": "3.10.11"
  },
  "orig_nbformat": 4
 },
 "nbformat": 4,
 "nbformat_minor": 2
}
